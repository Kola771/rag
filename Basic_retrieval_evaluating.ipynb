{
 "cells": [
  {
   "cell_type": "markdown",
   "metadata": {},
   "source": [
    "# BASIC RAG - Evaluation\n",
    "##  Trial of metrics "
   ]
  },
  {
   "cell_type": "code",
   "execution_count": 35,
   "metadata": {},
   "outputs": [],
   "source": [
    "import warnings\n",
    "warnings.filterwarnings('ignore')"
   ]
  },
  {
   "cell_type": "code",
   "execution_count": 36,
   "metadata": {},
   "outputs": [],
   "source": [
    "import nest_asyncio\n",
    "nest_asyncio.apply()"
   ]
  },
  {
   "cell_type": "markdown",
   "metadata": {},
   "source": [
    "On charge les questions GAIA"
   ]
  },
  {
   "cell_type": "code",
   "execution_count": 37,
   "metadata": {},
   "outputs": [
    {
     "name": "stdout",
     "output_type": "stream",
     "text": [
      "[{'query': 'Quel est le pourcentage les combustibles fossiles sont responsables des emissions mondiales de gaz a effet de serre? ', 'response': 'response : 75', 'GroundTruth': 'T '}, {'query': 'Quel est le pourcentage les combustibles fossiles sont responsables des emissions de dioxyde de carabone? ', 'response': 'response : 90', 'GroundTruth': 'T '}, {'query': \"Combien de millions d'hectares de forets sont detruite chaque annee a cause de la deforestation ?\", 'response': 'response : 12', 'GroundTruth': 'T '}, {'query': 'Combien de millions de personnes meurent chaque annee a cause de facters environnementaux? ', 'response': 'response : 13', 'GroundTruth': 'T '}, {'query': 'En moyenne, combien de millions de personnes ont ete deplaces en raison de phenomenes meterologiques chaque annee lors de la derniere decennie ?  ecris millions sans abreviation', 'response': 'response : 23,1', 'GroundTruth': 'T '}, {'query': \"De combien de degre de difference etait la temperature moyenne de 2019 oar rapport aux niveaux de l'ere preindustrielle ? \", 'response': 'response : +1,1°C', 'GroundTruth': 'T '}, {'query': 'A quel rythme augmente le rechauffement climatique du aux humains? ', 'response': 'response : 0,2°C', 'GroundTruth': 'T '}, {'query': \"Quel est le seuil de temperature par rapport a l'ere preindustrielle au dessus duquel de graves repercussions sur l'environnement naturel sont a craindre ? degre avec un signe selon si le seuil est superieur ou inferieur\", 'response': 'response : +2°C', 'GroundTruth': 'T '}, {'query': \"Jusqu'a combien de fois les effets des emissions emis par les gaz fluores ont un effet superieur a celui du CO2 ? \", 'response': 'response : 23 000', 'GroundTruth': 'T '}, {'query': \"Quel doit etre le taux d'emission nette de CO2 au niveau mondial pour stopper completement le rechauffement climatique? \", 'response': 'response : 0', 'GroundTruth': 'T '}, {'query': \"Malgre les accords de Paris en 2015, quelle est la prevision de rechauffement climatique d'ici la fin du siecle ? \", 'response': 'response : +2,8°C', 'GroundTruth': 'T '}, {'query': 'En quelle annee le GIEC parle de \"changements climatiques\" ou de \"rechauffement du systeme climatique\"? ', 'response': 'response : 2013', 'GroundTruth': 'T '}, {'query': 'En quelle annee le GIEC parle de \"rechuaffement climatique\"?', 'response': 'response : 2018', 'GroundTruth': 'T '}, {'query': \"Quelle serait l'elevation du niveau de la mer dans 2000 ans par degre ? En m/°C\", 'response': 'response : 2.3', 'GroundTruth': 'T '}, {'query': 'En quelle annee, une etude scientifique sur les vagues de chaleur a ete publie dans la revue scientfique Nature Climate Change ?', 'response': 'response : 2021', 'GroundTruth': 'T '}, {'query': 'Selon la Banque mondiale, combien de milllions de personnes pourraient plonger dans la pauvrete en 2023 ?', 'response': 'response : 120', 'GroundTruth': 'T '}, {'query': 'En quelle annee les economistes Lucas Chancel et Thomas Piketty ont-ils publie une etude qui compare les emissions moyennes des habitants de differents continents ?', 'response': 'response : 2015', 'GroundTruth': 'T '}, {'query': \"De combien de pourcentage des emissions industrielles, la production d'acier et de ciment en est responsable ?\", 'response': 'response : 13', 'GroundTruth': 'T '}, {'query': \"a quelle concentration (en poucentage) la concentration de dioxyde de carbone (CO2) dans l'atmosphere etait-elle passee en 2020 par rapport a son niveau preindustriel ?\", 'response': 'response : 48', 'GroundTruth': 'T'}, {'query': \"Depuis quelle annee un groupe d'experts sur l'evolution du climat (GIEC) travaille-t-il ensemble ?\", 'response': 'response : 1988', 'GroundTruth': 'T'}, {'query': 'Quel intervalle de temps est generalement utilisee comme reference pour calculer le climat ?', 'response': 'response : 30', 'GroundTruth': 'T'}, {'query': 'Combien de facteurs principaux sont mentionnes comme contribuant au climat de la Terre dans le texte ?', 'response': 'response : 3', 'GroundTruth': 'T'}, {'query': \"Combien de millions d'enfants sont estimes etre touches chaque annee par des catastrophes naturelles ?\", 'response': 'response : 66,5', 'GroundTruth': 'T'}, {'query': \"Combien de millions d'enfants seront estimes etre touches chaque annee par des catastrophes dues au climat au cours des dix prochaines annees ?\", 'response': 'response : 175', 'GroundTruth': 'T'}, {'query': \"En septembre 2000, combien d'Etats-Membres de l'ONU ont adoptes les 8 Objectifs du Millenaire pour le developpement (OMD) ?\", 'response': 'response : 189', 'GroundTruth': 'T'}, {'query': 'Combien de dirigeants de la planete se sont engages a atteindre les Objectifs du developpement durable (ODD) le 25 septembre 2015 ?', 'response': 'response : 193', 'GroundTruth': 'T'}, {'query': \"Combien d'objectifs ambitieux sont mentionnes parmi les Objectifs du developpement durable (ODD) pour etre realises d'ici 2030 ?\", 'response': 'response : 3', 'GroundTruth': 'T'}, {'query': \"Combien d'objectifs mondiaux sont mentionnes parmi les Objectifs du developpement durable (ODD) pour etre realises d'ici 2030 ?\", 'response': 'response : 17', 'GroundTruth': 'T'}, {'query': \"a combien de reprises la Conference des Parties (COP21) s'etait-elle reunie avant 2015 ?\", 'response': 'response : 21', 'GroundTruth': 'T'}, {'query': 'Quel est le nombre total de pays presents a la Conference de Paris en 2015 pour discuter et trouver un accord pour limiter le rechauffement climatique ?', 'response': 'response : 195', 'GroundTruth': 'T'}, {'query': \"Combien d'emissions totales de carbone dans l'atmosphere les specialistes estiment-il que les activites humaines ont deja emises ? En gigatonnes\", 'response': 'response : 530', 'GroundTruth': 'T'}, {'query': \"Quel est l'objectif de limiter les emissions totales de carbone dans l'atmosphere en termes de gigatonnes ?\", 'response': 'response : 800', 'GroundTruth': 'T'}, {'query': 'Quelle est la difference de temperature entre la decennie 2010-2019 et la moyenne 1961-1990 ?', 'response': 'response : +0,66°C', 'GroundTruth': 'T'}, {'query': 'De combien de degres la decennie 2010-2019 a-t-elle ete plus chaude que la decennie 2000-2009 ?', 'response': 'response : +0,19°C', 'GroundTruth': 'T'}, {'query': 'Quelle annee a ete classee comme la plus chaude depuis 1850, avec une temperature superieure de 0,86 °C a la moyenne 1961-1990 ?', 'response': 'response : 2016', 'GroundTruth': 'T'}, {'query': \"Combien de gigatonnes de glace le Groenland a-t-il perdu pendant l'ete arctique exceptionnellement chaud de 2019 ?\", 'response': 'response : 600', 'GroundTruth': 'T'}, {'query': \"a combien d'elevation du niveau des mers equivaut la perte de glace du Groenland durant cet ete arctique ? En mm\", 'response': 'response : 2,2', 'GroundTruth': 'T'}, {'query': \"Combien de metres d'epaisseur le glacier d'Ossoue a-t-il perdu entre 2001 et 2019 ?\", 'response': 'response : 30', 'GroundTruth': 'T'}, {'query': \"Quelle etait la superficie initiale du glacier d'Ossoue en 2001? Donne moi le nombre d'hectares\", 'response': 'response : 58', 'GroundTruth': 'T'}, {'query': \"Quelle etait la superficie initiale du glacier d'Ossoue en 2019? Donne moi le nombre d'hectares\", 'response': 'response : 32', 'GroundTruth': 'T'}, {'query': \"De combien de metres le front du glacier d'Ossoue a-t-il recule en termes de longueur entre 2001 et 2019 ?\", 'response': 'response : 125', 'GroundTruth': 'T'}, {'query': 'Quelle est la concentration atmospherique du methane (CH4) en parties par milliard (ppb) en 2018 ? ', 'response': 'response : 1857', 'GroundTruth': 'T'}, {'query': 'Quelle est la concentration atmospherique du dioxyde de carbone (CO2) en parties par milliard (ppb) en 2018 ? ', 'response': 'response : 408', 'GroundTruth': 'T'}, {'query': 'Quelle est la concentration atmospherique de N20 en parties par milliard (ppb) en 2018 ? ', 'response': 'response : 331', 'GroundTruth': 'T'}, {'query': 'Quel est le pouvoir de rechauffement global (PRG) du dioxyde de carbone (CO2) sur une periode de 100 ans ?', 'response': 'response : 1', 'GroundTruth': 'T'}, {'query': 'Quel est le pouvoir de rechauffement global (PRG) du N2O sur une periode de 100 ans ?', 'response': 'response : 265', 'GroundTruth': 'T'}, {'query': 'Quel est le pouvoir de rechauffement global (PRG) du hexafluorure de soufre SF6 sur une periode de 100 ans ?', 'response': 'response : 23 500', 'GroundTruth': 'T'}, {'query': 'Quel est le pouvoir de rechauffement global (PRG) du NF3 sur une periode de 100 ans ?', 'response': 'response : 16100', 'GroundTruth': 'T'}, {'query': \"Combien de gigatonnes (Gt) de CO2 en moyenne par an ont ete absorbees par l'atmosphere au cours des dix dernieres annees ?\", 'response': 'response : 18', 'GroundTruth': 'T'}, {'query': \"Quel est le pourcentage de la quantite totale de carbone emise au cours des cinquante dernieres annees que l'atmosphere a absorbe ?\", 'response': 'response : 50', 'GroundTruth': 'T'}, {'query': 'Combien de gigatonnes (Gt) de CO2 ont ete absorbees par les oceans en moyenne par an au cours des dix dernieres annees ?', 'response': 'response : 9', 'GroundTruth': 'T'}, {'query': \"Quel pourcentage des emissions anthropiques annuelles de gaz a effet de serre (GES) est compense par le puits brut attribue a la biosphere, principalement aux for'ts ?\", 'response': 'response : 19', 'GroundTruth': 'T'}, {'query': \"Quelle est l'estimation de la sequestration nette de carbone dans la biomasse des for'ts en France pour l'annee 2018 ? En millions de tonnes\", 'response': 'response : 49,5', 'GroundTruth': 'T'}, {'query': 'Quel pourcentage representent les emissions nettes des terres boisees, notamment a cause de la deforestation, par rapport aux emissions anthropiques annuelles de GES dans le monde ?', 'response': 'response : 13', 'GroundTruth': 'T'}, {'query': 'Quels sont les principaux contributeurs au changement climatique mondial', 'response': 'response : ', 'GroundTruth': 'F'}, {'query': 'Quelle est la part des emissions mondiales de gaz a effet de serre attribuee aux combustibles fossiles, tels que le charbon, le petrole et le gaz?', 'response': 'response : ', 'GroundTruth': 'F'}, {'query': \"En quoi la production d'electricite et de chaleur a partir de combustibles fossiles contribue-t-elle aux emissions mondiales de gaz a effet de serre?\", 'response': 'response : ', 'GroundTruth': 'F'}, {'query': \"Comment le secteur manufacturier et l'industrie sont-ils lies aux emissions de gaz a effet de serre?\", 'response': 'response : ', 'GroundTruth': 'F'}, {'query': \"Quel est l'impact de l'abattage des forets sur les emissions de gaz a effet de serre, et pourquoi cela limite-t-il la capacite de la nature a emp'cher ces emissions?\", 'response': 'response : ', 'GroundTruth': 'F'}, {'query': \"Quelle part des emissions mondiales de gaz a effet de serre est attribuable a la deforestation, a l'agriculture et a d'autres changements d'affectation des sols?\", 'response': 'response : ', 'GroundTruth': 'F'}, {'query': \"Quel r'le jouent les moyens de transport, tels que les voitures, les camions, les navires et les avions, dans les emissions mondiales de gaz a effet de serre?\", 'response': 'response : ', 'GroundTruth': 'F'}, {'query': \"Comment la production de denrees alimentaires contribue-t-elle aux emissions de dioxyde de carbone, de methane et d'autres gaz a effet de serre?\", 'response': 'response : ', 'GroundTruth': 'F'}, {'query': \"En quoi l'alimentation des batiments en energie, notamment pour le chauffage et la climatisation, contribue-t-elle aux emissions de gaz a effet de serre?\", 'response': 'response : ', 'GroundTruth': 'F'}, {'query': \"Quelles tendances laissent presager une augmentation importante de la consommation d'energie dans le secteur des transports dans les annees a venir?\", 'response': 'response : ', 'GroundTruth': 'F'}, {'query': 'Quelle a ete la tendance des temperatures a la surface du globe au cours des dernieres decennies, et quelles sont les consequences de cette tendance?', 'response': 'response : ', 'GroundTruth': 'F'}, {'query': \"Comment le rechauffement climatique influence-t-il la frequence et l'intensite des temp'tes dans differentes regions?\", 'response': 'response : ', 'GroundTruth': 'F'}, {'query': \"Quel est l'impact du changement climatique sur la disponibilite de l'eau dans plusieurs regions, et quelles sont les consequences associees?\", 'response': 'response : ', 'GroundTruth': 'F'}, {'query': \"En quoi la montee des oceans est-elle liee au rechauffement de la planete, et quels sont les dangers potentiels pour les communautes c'tieres?\", 'response': 'response : ', 'GroundTruth': 'F'}, {'query': \"Quels risques le changement climatique presente-t-il pour la survie des especes terrestres et oceaniques, et a quel rythme est-il estime que les especes s'eteignent?\", 'response': 'response : ', 'GroundTruth': 'F'}, {'query': 'Comment les modifications climatiques peuvent-elles aggraver la faim et la malnutrition dans le monde, et quelles ressources alimentaires sont menacees?', 'response': 'response : ', 'GroundTruth': 'F'}, {'query': \"Quels sont les risques sanitaires associes au changement climatique, et comment cela affecte-t-il la sante de l'humanite?\", 'response': 'response : ', 'GroundTruth': 'F'}, {'query': \"En quoi le changement climatique contribue-t-il a l'accroissement de la pauvrete et aux deplacements de populations?\", 'response': 'response : ', 'GroundTruth': 'F'}, {'query': 'Quelle est la frequence estimee des deplacements de populations en raison de phenomenes meteorologiques au cours de la derniere decennie?', 'response': 'response : ', 'GroundTruth': 'F'}, {'query': \"Quelle est l'estimation du nombre annuel de personnes decedees en raison des facteurs environnementaux lies au changement climatique?\", 'response': 'response : ', 'GroundTruth': 'F'}, {'query': 'Quelles sont les principales activites humaines responsables de la pollution de la planete?', 'response': 'response : ', 'GroundTruth': 'F'}, {'query': \"Quelles sont les consequences du changement climatique sur la temperature a la surface de la Terre et sur l'intensification des catastrophes naturelles?\", 'response': 'response : ', 'GroundTruth': 'F'}, {'query': 'Quelle est l\\'origine du terme \"changement climatique\" et depuis quand le GIEC travaille-t-il sur cette question?', 'response': 'response : ', 'GroundTruth': 'F'}, {'query': 'Quels sont les effets multiples du changement climatique, et comment peuvent-ils etre categorises (environnementaux, sociaux, economiques)?', 'response': 'response : ', 'GroundTruth': 'F'}, {'query': 'Comment le terme \"catastrophe\" est-il defini dans le texte, et quelles sont les differentes origines possibles d\\'une catastrophe?', 'response': 'response : ', 'GroundTruth': 'F'}, {'query': \"Qu'est-ce que le climat, et quels sont les principaux facteurs qui influent sur le climat de la Terre?\", 'response': 'response : ', 'GroundTruth': 'F'}, {'query': 'Quelle est la definition du developpement durable, et quels sont ses principaux objectifs?', 'response': 'response : ', 'GroundTruth': 'F'}, {'query': 'Pourquoi le rechauffement climatique est-il considere comme une menace pour la planete, et quelle espece est mentionnee comme etant en grand danger?', 'response': 'response : ', 'GroundTruth': 'F'}, {'query': 'Qui a defini le developpement durable et quelle est sa definition?', 'response': 'response : ', 'GroundTruth': 'F'}, {'query': 'Quelle est la difference entre le changement climatique et le dereglement climatique?', 'response': 'response : ', 'GroundTruth': 'F'}, {'query': 'Quelle est la definition du developpement durable?', 'response': 'response : ', 'GroundTruth': 'F'}, {'query': \"Pourquoi le developpement n'est-il pas durable si toutes les ressources sont utilisees aujourd'hui sans en laisser pour les generations futures?\", 'response': 'response : ', 'GroundTruth': 'F'}, {'query': \"Comment le rechauffement climatique impacte-t-il les secteurs d'intervention de l'UNICEF?\", 'response': 'response : ', 'GroundTruth': 'F'}, {'query': \"Quelles sont les recommandations principales de l'UNICEF pour lutter contre le changement climatique?\", 'response': 'response : ', 'GroundTruth': 'F'}, {'query': \"Quel r'le l'UNICEF joue-t-il dans le plaidoyer pour une evolution des politiques nationales sur le climat?\", 'response': 'response : ', 'GroundTruth': 'F'}, {'query': \"Pourquoi la communaute internationale doit-elle reduire rapidement ses emissions de gaz a effet de serre, selon l'UNICEF?\", 'response': 'response : ', 'GroundTruth': 'F'}, {'query': \"Comment l'UNICEF propose-t-il d'investir dans la lutte contre le changement climatique pour le benefice des enfants?\", 'response': 'response : ', 'GroundTruth': 'F'}, {'query': 'Quel seuil de rechauffement climatique est considere comme critique, au-dela duquel des repercussions graves sont a craindre?', 'response': 'response : ', 'GroundTruth': 'F'}, {'query': \"Quels sont les effets de l'abattage des for'ts (deforestation) sur le climat?\", 'response': 'response : ', 'GroundTruth': 'F'}, {'query': \"Comment l'elevage, en particulier les bovins et les ovins, contribue-t-il au changement climatique?\", 'response': 'response : ', 'GroundTruth': 'F'}]\n"
     ]
    }
   ],
   "source": [
    "import csv \n",
    "\n",
    "questions_set = []\n",
    "format_set = []\n",
    "with open(\"../GAIA_questions.csv\", 'r', newline='', encoding='utf-8') as file :\n",
    "    csv_lector = csv.DictReader(file, delimiter=';')\n",
    "    for line in csv_lector : \n",
    "        questions_set.append({\"query\": line[\"Question\"], \"response\" : f\"response : {line['Answer']}\", \"GroundTruth\" : line['Groundtruth']})\n",
    "        format_set.append(line[\"Format\"])\n",
    "print(questions_set)"
   ]
  },
  {
   "cell_type": "markdown",
   "metadata": {},
   "source": [
    "On récupère la database chromaDB"
   ]
  },
  {
   "cell_type": "code",
   "execution_count": 38,
   "metadata": {},
   "outputs": [],
   "source": [
    "import chromadb\n",
    "from chromadb.utils import embedding_functions\n",
    "\n",
    "with open(\"log/embedding_function.txt\", 'r') as file : \n",
    "    embedding_function = eval(file.read())\n",
    "\n",
    "chroma_client = chromadb.PersistentClient(\"./dbs/documentation/chroma_index\")\n",
    "chroma_collection = chroma_client.get_collection(\"Basic_rag\", embedding_function=embedding_function)"
   ]
  },
  {
   "cell_type": "code",
   "execution_count": 39,
   "metadata": {},
   "outputs": [],
   "source": [
    "from trulens_eval import Tru \n",
    "\n",
    "tru = Tru()\n",
    "tru.reset_database()"
   ]
  },
  {
   "cell_type": "code",
   "execution_count": 40,
   "metadata": {},
   "outputs": [
    {
     "name": "stdout",
     "output_type": "stream",
     "text": [
      "✅ In Groundedness, input source will be set to __record__.app.retrieve.rets.collect() .\n",
      "✅ In Groundedness, input statement will be set to __record__.main_output or `Select.RecordOutput` .\n",
      "✅ In Answer Relevance, input prompt will be set to __record__.app.retrieve.args.query .\n",
      "✅ In Answer Relevance, input response will be set to __record__.main_output or `Select.RecordOutput` .\n",
      "✅ In Context Relevance, input question will be set to __record__.app.retrieve.args.query .\n",
      "✅ In Context Relevance, input statement will be set to __record__.app.retrieve.rets.collect() .\n",
      "✅ In Ground Truth, input prompt will be set to __record__.main_input or `Select.RecordInput` .\n",
      "✅ In Ground Truth, input response will be set to __record__.main_output or `Select.RecordOutput` .\n",
      "✅ In Bert score, input prompt will be set to __record__.main_input or `Select.RecordInput` .\n",
      "✅ In Bert score, input response will be set to __record__.main_output or `Select.RecordOutput` .\n",
      "✅ In Bleu score, input prompt will be set to __record__.main_input or `Select.RecordInput` .\n",
      "✅ In Bleu score, input response will be set to __record__.main_output or `Select.RecordOutput` .\n",
      "✅ In Agreement mesure, input prompt will be set to __record__.main_input or `Select.RecordInput` .\n",
      "✅ In Agreement mesure, input response will be set to __record__.main_output or `Select.RecordOutput` .\n"
     ]
    }
   ],
   "source": [
    "from trulens_eval import Feedback, Select\n",
    "from trulens_eval.feedback import Groundedness, GroundTruthAgreement\n",
    "from trulens_eval.feedback.provider.openai import OpenAI as fOpenAI\n",
    "\n",
    "import numpy as np\n",
    "\n",
    "# Initialize provider class\n",
    "fopenai = fOpenAI()\n",
    "\n",
    "grounded = Groundedness(groundedness_provider=fopenai)\n",
    "\n",
    "# Define a groundedness feedback function\n",
    "f_groundedness = (\n",
    "    Feedback(grounded.groundedness_measure_with_cot_reasons, name = \"Groundedness\")\n",
    "    .on(Select.RecordCalls.retrieve.rets.collect())\n",
    "    .on_output()\n",
    "    .aggregate(grounded.grounded_statements_aggregator) # List[Dict] : a list of scores. Each list index is a contexte \n",
    ") \n",
    "\n",
    "# f_groundedness = (\n",
    "#     Feedback(grounded.groundedness_measure_with_cot_reasons, name = \"Groundedness\")\n",
    "#     .on(Select.Record.app.combine_documents_chain._call.args.inputs.input_documents[:].page_content)\n",
    "#     .on_output()\n",
    "#     .aggregate(grounded.grounded_statements_aggregator) # List[Dict] : a list of scores. Each list index is a contexte \n",
    "# ) \n",
    "\n",
    "\n",
    "\n",
    "# Question/answer relevance between overall question and answer.\n",
    "f_qa_relevance = (\n",
    "    Feedback(fopenai.relevance_with_cot_reasons, name = \"Answer Relevance\")\n",
    "    .on(Select.RecordCalls.retrieve.args.query)\n",
    "    .on_output()\n",
    ")\n",
    "\n",
    "# Question/statement relevance between question and each context chunk.\n",
    "f_context_relevance = (\n",
    "    Feedback(fopenai.qs_relevance_with_cot_reasons, name = \"Context Relevance\")\n",
    "    .on(Select.RecordCalls.retrieve.args.query)\n",
    "    .on(Select.RecordCalls.retrieve.rets.collect())\n",
    "    .aggregate(np.mean)\n",
    ")\n",
    "\n",
    "\n",
    "f_groundtruth = (\n",
    "    Feedback(GroundTruthAgreement(questions_set).agreement_measure, name = \"Ground Truth\")\n",
    "    .on_input_output()\n",
    "    )\n",
    "\n",
    "f_bert_score = (\n",
    "    Feedback(GroundTruthAgreement(questions_set).bert_score, name=\"Bert score\").on_input_output())\n",
    "\n",
    "f_bleu = (\n",
    "    Feedback(GroundTruthAgreement(questions_set).bleu, name=\"Bleu score\").on_input_output()\n",
    ")\n",
    "\n",
    "f_agreement_measure =(\n",
    "    Feedback(GroundTruthAgreement(questions_set).agreement_measure, name=\"Agreement mesure\").on_input_output()\n",
    ")\n"
   ]
  },
  {
   "cell_type": "code",
   "execution_count": 44,
   "metadata": {},
   "outputs": [],
   "source": [
    "from openai import OpenAI\n",
    "from trulens_eval.tru_custom_app import instrument \n",
    "\n",
    "oai_client = OpenAI()\n",
    "\n",
    "def my_retrieve(query):\n",
    "    results = chroma_collection.query(\n",
    "            query_texts=query,\n",
    "            n_results=2\n",
    "        )\n",
    "    # for i in range(len(results[\"documents\"][0])):\n",
    "    #     results[\"documents\"][0][i].replace(\"’\", \"'\")\n",
    "    #     results[\"documents\"][0][i].replace('\\n', '') \n",
    "    # print(results[\"documents\"][0])\n",
    "    return results['documents']\n",
    "\n",
    "def my_completion(docs, query):\n",
    "    context = \"\"\n",
    "    for ref in docs[0] :\n",
    "        context += f\"{ref}\\n------------------------\\n\"\n",
    "    completion = oai_client.chat.completions.create(\n",
    "        model = \"gpt-3.5-turbo\",\n",
    "        temperature= 0,\n",
    "        messages=[\n",
    "            {\"role\" : \"system\", \"content\" : f\"Tu es un assistant IA. Lorsqu'on te pose une question, écris toujours 'response :' puis la réponse dans le format {format_set.pop()}. \\nExemple : Quelle est l'annee de la revolution francaise? avec le format annee - 'XXXX', cela donne : 'response : 1789'\\nExemple : Combien de pourcentage d'eau notre corps est constitué? avec le format nombre décimal 'XX,X', cela donne : 'response : 65,1' \"},\n",
    "            {\"role\": \"user\", \"content\": f\"Nous avons le ou les contenus fournis ci dessous. \\n------------------------\\n{context}\\nEn te basant sur le contexte donné, réponds à cette question, et respecte le format indiqué : {query}\\nRéponse : \"}\n",
    "        ]\n",
    "    ).choices[0].message.content \n",
    "    return completion\n",
    "\n",
    "    \n",
    "\n",
    "\n",
    "class RAG_APP:\n",
    "    @instrument\n",
    "    def retrieve(self, query):\n",
    "        return my_retrieve(query)\n",
    "\n",
    "    @instrument \n",
    "    def completion(self, docs, query):\n",
    "        return my_completion(docs, query)\n",
    "    \n",
    "    @instrument\n",
    "    def query(self, query):\n",
    "        context = self.retrieve(query)\n",
    "        completion = self.completion(context, query)\n",
    "        return completion\n",
    "\n",
    "rag_app = RAG_APP()"
   ]
  },
  {
   "cell_type": "code",
   "execution_count": 47,
   "metadata": {},
   "outputs": [
    {
     "name": "stderr",
     "output_type": "stream",
     "text": [
      "Function <function RAG_APP.query at 0x0000015B47901C10> was not found during instrumentation walk. Make sure it is accessible by traversing app <__main__.RAG_APP object at 0x0000015B4AA74160> or provide a bound method for it as TruCustomApp constructor argument `methods_to_instrument`.\n",
      "Function <function RAG_APP.completion at 0x0000015B4AAB1C10> was not found during instrumentation walk. Make sure it is accessible by traversing app <__main__.RAG_APP object at 0x0000015B4AA74160> or provide a bound method for it as TruCustomApp constructor argument `methods_to_instrument`.\n",
      "Function <function RAG_APP.query at 0x0000015B4AAB1B80> was not found during instrumentation walk. Make sure it is accessible by traversing app <__main__.RAG_APP object at 0x0000015B4AA74160> or provide a bound method for it as TruCustomApp constructor argument `methods_to_instrument`.\n",
      "Function <function RAG_APP.query at 0x0000015B4AA65670> was not found during instrumentation walk. Make sure it is accessible by traversing app <__main__.RAG_APP object at 0x0000015B4AA74160> or provide a bound method for it as TruCustomApp constructor argument `methods_to_instrument`.\n",
      "Function <function RAG_APP.retrieve at 0x0000015B4B008CA0> was not found during instrumentation walk. Make sure it is accessible by traversing app <__main__.RAG_APP object at 0x0000015B4AA74160> or provide a bound method for it as TruCustomApp constructor argument `methods_to_instrument`.\n",
      "Function <function RAG_APP.retrieve at 0x0000015B479018B0> was not found during instrumentation walk. Make sure it is accessible by traversing app <__main__.RAG_APP object at 0x0000015B4AA74160> or provide a bound method for it as TruCustomApp constructor argument `methods_to_instrument`.\n",
      "Function <function RAG_APP.retrieve at 0x0000015B47901AF0> was not found during instrumentation walk. Make sure it is accessible by traversing app <__main__.RAG_APP object at 0x0000015B4AA74160> or provide a bound method for it as TruCustomApp constructor argument `methods_to_instrument`.\n",
      "Function <function RAG_APP.completion at 0x0000015B4B008D30> was not found during instrumentation walk. Make sure it is accessible by traversing app <__main__.RAG_APP object at 0x0000015B4AA74160> or provide a bound method for it as TruCustomApp constructor argument `methods_to_instrument`.\n",
      "Function <function RAG_APP.completion at 0x0000015B47901B80> was not found during instrumentation walk. Make sure it is accessible by traversing app <__main__.RAG_APP object at 0x0000015B4AA74160> or provide a bound method for it as TruCustomApp constructor argument `methods_to_instrument`.\n",
      "Function <function RAG_APP.retrieve at 0x0000015B4B008B80> was not found during instrumentation walk. Make sure it is accessible by traversing app <__main__.RAG_APP object at 0x0000015B4AA74160> or provide a bound method for it as TruCustomApp constructor argument `methods_to_instrument`.\n",
      "Function <function RAG_APP.query at 0x0000015B4B008DC0> was not found during instrumentation walk. Make sure it is accessible by traversing app <__main__.RAG_APP object at 0x0000015B4AA74160> or provide a bound method for it as TruCustomApp constructor argument `methods_to_instrument`.\n",
      "Function <function RAG_APP.completion at 0x0000015B4AA655E0> was not found during instrumentation walk. Make sure it is accessible by traversing app <__main__.RAG_APP object at 0x0000015B4AA74160> or provide a bound method for it as TruCustomApp constructor argument `methods_to_instrument`.\n"
     ]
    },
    {
     "name": "stdout",
     "output_type": "stream",
     "text": [
      " 0 - response : 48                  | response : La question ne fournit pas d'informations précises sur la concentration de dioxyde de carbone (CO2) dans l'atmosphère en 2020 par rapport à son niveau préindustriel.\n",
      " 1 - response : 1988                | Depuis quelle annee un groupe d'experts sur l'evolution du climat (GIEC) travaille-t-il ensemble ?\n",
      "Réponse : Le GIEC travaille ensemble depuis 1988.\n",
      " 2 - response : 30                  | response : L'intervalle de temps généralement utilisé comme référence pour calculer le climat est de 1990 à 2018.\n",
      " 3 - response : 3                   | response : Aucun facteur principal n'est mentionné comme contribuant au climat de la Terre dans le texte.\n",
      " 4 - response : 66,5                | response : Environ 66,5 millions d'enfants sont estimés être touchés chaque année par des catastrophes naturelles.\n",
      " 5 - response : 175                 | response : Environ 175 millions d'enfants seront estimés être touchés chaque année par des catastrophes dues au climat au cours des dix prochaines années.\n",
      " 6 - response : 189                 | response : En septembre 2000, les 189 États-Membres de l'ONU ont adopté les 8 Objectifs du Millénaire pour le développement (OMD).\n",
      " 7 - response : 193                 | response : 193\n",
      " 8 - response : 3                   | response : 3 objectifs ambitieux sont mentionnés parmi les Objectifs du développement durable (ODD) pour être réalisés d'ici 2030.\n",
      " 9 - response : 17                  | response : 17\n",
      "10 - response : 21                  | response : La Conference des Parties (COP21) s'était réunie 20 fois avant 2015.\n",
      "11 - response : 195                 | response : Le nombre total de pays présents à la Conférence de Paris en 2015 pour discuter et trouver un accord pour limiter le réchauffement climatique était de 195 pays.\n",
      "12 - response : 530                 | response : Les informations fournies ne donnent pas de chiffres précis sur les émissions totales de carbone dans l'atmosphère causées par les activités humaines.\n",
      "13 - response : 800                 | response : L'objectif de limiter les émissions totales de carbone dans l'atmosphère en termes de gigatonnes n'est pas spécifié dans le contenu fourni.\n",
      "14 - response : +0,66°C             | response : La différence de température entre la décennie 2010-2019 et la moyenne 1961-1990 est de 0,97 °C.\n",
      "15 - response : +0,19°C             | response : Selon le contenu donné, il n'est pas possible de déterminer de combien de degrés la décennie 2010-2019 a été plus chaude que la décennie 2000-2009.\n",
      "16 - response : 2016                | response : L'année 2016 a été classée comme la plus chaude depuis 1850, avec une température supérieure de 0,86 °C à la moyenne 1961-1990.\n",
      "17 - response : 600                 | response : Le Groenland a perdu 600 gigatonnes de glace pendant l'été arctique exceptionnellement chaud de 2019.\n",
      "18 - response : 2,2                 | response : La perte de glace du Groenland durant cet été arctique équivaut à une élévation du niveau des mers de 2,2 mm.\n",
      "19 - response : 30                  | response : Le glacier d'Ossoue a perdu 30 mètres d'épaisseur entre 2001 et 2019.\n",
      "20 - response : 58                  | response : La superficie initiale du glacier d'Ossoue en 2001 était de 58 hectares.\n",
      "21 - response : 32                  | response : La superficie initiale du glacier d'Ossoue en 2019 était de 58 hectares.\n",
      "22 - response : 125                 | response : Le front du glacier d'Ossoue a reculé de 125 mètres en termes de longueur entre 2001 et 2019.\n",
      "23 - response : 1857                | response : La concentration atmosphérique du méthane (CH4) en parties par milliard (ppb) en 2018 n'est pas mentionnée dans le contexte donné.\n",
      "24 - response : 408                 | response : La concentration atmosphérique du dioxyde de carbone (CO2) en parties par milliard (ppb) en 2018 n'est pas mentionnée dans le contenu fourni.\n",
      "25 - response : 331                 | response : La concentration atmosphérique de N20 en parties par milliard (ppb) en 2018 n'est pas mentionnée dans le contexte donné.\n",
      "26 - response : 1                   | response : Le pouvoir de réchauffement global (PRG) du dioxyde de carbone (CO2) sur une période de 100 ans est de 73.\n",
      "27 - response : 265                 | response : Le pouvoir de réchauffement global (PRG) du N2O sur une période de 100 ans est de 298.\n",
      "28 - response : 23 500              | response : Le pouvoir de réchauffement global (PRG) du hexafluorure de soufre SF6 sur une période de 100 ans est de 23 900.\n",
      "29 - response : 16100               | response : Le contenu fourni ne mentionne pas le potentiel de réchauffement global (PRG) du NF3 sur une période de 100 ans.\n",
      "30 - response : 18                  | response : Au cours des dix dernières années, l'atmosphère a absorbé en moyenne 18 gigatonnes (Gt) de CO2 par an.\n",
      "31 - response : 50                  | response : L'atmosphère a absorbé près de 50% de la quantité de carbone émise au cours des cinquante dernières années.\n",
      "32 - response : 9                   | response : Il n'est pas mentionné dans le texte combien de gigatonnes (Gt) de CO2 ont été absorbées par les océans en moyenne par an au cours des dix dernières années.\n",
      "33 - response : 19                  | response : Le pourcentage des émissions anthropiques annuelles de gaz à effet de serre (GES) compensé par le puits brut attribué à la biosphère, principalement aux forêts, n'est pas mentionné dans le contenu fourni.\n",
      "34 - response : 49,5                | response : L'estimation de la séquestration nette de carbone dans la biomasse des forêts en France pour l'année 2018 est d'environ 49,5 millions de tonnes.\n"
     ]
    },
    {
     "name": "stderr",
     "output_type": "stream",
     "text": [
      "Function <function RAG_APP.query at 0x0000015B47901C10> was not found during instrumentation walk. Make sure it is accessible by traversing app <__main__.RAG_APP object at 0x0000015B4AA74160> or provide a bound method for it as TruCustomApp constructor argument `methods_to_instrument`.\n",
      "Function <function RAG_APP.completion at 0x0000015B4AAB1C10> was not found during instrumentation walk. Make sure it is accessible by traversing app <__main__.RAG_APP object at 0x0000015B4AA74160> or provide a bound method for it as TruCustomApp constructor argument `methods_to_instrument`.\n",
      "Function <function RAG_APP.query at 0x0000015B4AAB1B80> was not found during instrumentation walk. Make sure it is accessible by traversing app <__main__.RAG_APP object at 0x0000015B4AA74160> or provide a bound method for it as TruCustomApp constructor argument `methods_to_instrument`.\n",
      "Function <function RAG_APP.query at 0x0000015B4AA65670> was not found during instrumentation walk. Make sure it is accessible by traversing app <__main__.RAG_APP object at 0x0000015B4AA74160> or provide a bound method for it as TruCustomApp constructor argument `methods_to_instrument`.\n",
      "Function <function RAG_APP.retrieve at 0x0000015B4B008CA0> was not found during instrumentation walk. Make sure it is accessible by traversing app <__main__.RAG_APP object at 0x0000015B4AA74160> or provide a bound method for it as TruCustomApp constructor argument `methods_to_instrument`.\n",
      "Function <function RAG_APP.retrieve at 0x0000015B479018B0> was not found during instrumentation walk. Make sure it is accessible by traversing app <__main__.RAG_APP object at 0x0000015B4AA74160> or provide a bound method for it as TruCustomApp constructor argument `methods_to_instrument`.\n",
      "Function <function RAG_APP.retrieve at 0x0000015B47901AF0> was not found during instrumentation walk. Make sure it is accessible by traversing app <__main__.RAG_APP object at 0x0000015B4AA74160> or provide a bound method for it as TruCustomApp constructor argument `methods_to_instrument`.\n",
      "Function <function RAG_APP.completion at 0x0000015B4B008D30> was not found during instrumentation walk. Make sure it is accessible by traversing app <__main__.RAG_APP object at 0x0000015B4AA74160> or provide a bound method for it as TruCustomApp constructor argument `methods_to_instrument`.\n",
      "Function <function RAG_APP.completion at 0x0000015B47901B80> was not found during instrumentation walk. Make sure it is accessible by traversing app <__main__.RAG_APP object at 0x0000015B4AA74160> or provide a bound method for it as TruCustomApp constructor argument `methods_to_instrument`.\n",
      "Function <function RAG_APP.retrieve at 0x0000015B4B008B80> was not found during instrumentation walk. Make sure it is accessible by traversing app <__main__.RAG_APP object at 0x0000015B4AA74160> or provide a bound method for it as TruCustomApp constructor argument `methods_to_instrument`.\n",
      "Function <function RAG_APP.query at 0x0000015B4B008DC0> was not found during instrumentation walk. Make sure it is accessible by traversing app <__main__.RAG_APP object at 0x0000015B4AA74160> or provide a bound method for it as TruCustomApp constructor argument `methods_to_instrument`.\n",
      "Function <function RAG_APP.completion at 0x0000015B4AA655E0> was not found during instrumentation walk. Make sure it is accessible by traversing app <__main__.RAG_APP object at 0x0000015B4AA74160> or provide a bound method for it as TruCustomApp constructor argument `methods_to_instrument`.\n"
     ]
    },
    {
     "name": "stdout",
     "output_type": "stream",
     "text": [
      "35 - response : 13                  | response : Les émissions nettes des terres boisées, notamment à cause de la déforestation, représentent environ 13 % des émissions anthropiques annuelles de GES dans le monde.\n",
      " 0 - response : Les principaux contributeurs au changement climatique mondial sont les activités humaines telles que la combustion des combustibles fossiles (charbon, pétrole, gaz naturel), la déforestation, l'agriculture intensive et l'industrie. Ces activités entraînent une augmentation des émissions de gaz à effet de serre, tels que le dioxyde de carbone (CO2), le méthane (CH4) et le protoxyde d'azote (N2O), qui contribuent au réchauffement de la planète.\n",
      " 1 - response : Les combustibles fossiles, tels que le charbon, le pétrole et le gaz, sont l'une des principales sources d'émissions de gaz à effet de serre dans le monde. Cependant, le pourcentage précis des émissions attribuées à ces combustibles n'est pas mentionné dans le texte fourni.\n",
      " 2 - response : La production d'électricité et de chaleur à partir de combustibles fossiles contribue aux émissions mondiales de gaz à effet de serre en générant du dioxyde de carbone (CO2) et de l'oxyde nitreux (N2O). Ces gaz à effet de serre s'accumulent dans l'atmosphère et contribuent au réchauffement climatique en piégeant la chaleur du soleil.\n",
      " 3 - response : Le secteur manufacturier et l'industrie sont liés aux émissions de gaz à effet de serre de plusieurs manières. Tout d'abord, les machines utilisées dans les processus de fabrication fonctionnent généralement au charbon, au pétrole ou au gaz, ce qui entraîne des émissions de CO2. De plus, certains matériaux utilisés dans l'industrie, tels que les plastiques, sont fabriqués à partir de produits chimiques issus de combustibles fossiles, ce qui contribue également aux émissions de gaz à effet de serre. Enfin, l'abattage de forêts pour faire place à des exploitations agricoles ou à des pâturages, ou pour d'autres raisons, entraîne des émissions de CO2, car les arbres libèrent le carbone qu'ils ont stocké une fois coupés.\n",
      " 4 - response : L'abattage des forêts a un impact sur les émissions de gaz à effet de serre car une fois les arbres coupés, ils libèrent le carbone qu'ils ont stocké. Les arbres jouent un rôle important en absorbant le dioxyde de carbone (CO2) de l'atmosphère lors de la photosynthèse. En les abattant, on réduit la capacité de la nature à absorber le CO2 et à limiter les émissions de gaz à effet de serre.\n",
      " 5 - response : 25,0%\n",
      " 6 - response : Les moyens de transport, tels que les voitures, les camions, les navires et les avions, jouent un rôle important dans les émissions mondiales de gaz à effet de serre.\n",
      " 7 - response : La production de denrées alimentaires contribue aux émissions de dioxyde de carbone, de méthane et d'autres gaz à effet de serre principalement de deux manières. Premièrement, l'industrie alimentaire utilise des combustibles fossiles pour produire de l'énergie, ce qui entraîne des émissions de dioxyde de carbone lors de la combustion. Deuxièmement, certaines activités agricoles telles que la gestion du fumier, la riziculture et la fermentation entérique des animaux produisent du méthane, un gaz à effet de serre plus puissant que le dioxyde de carbone.\n",
      " 8 - response : L'alimentation des bâtiments en énergie, notamment pour le chauffage et la climatisation, contribue aux émissions de gaz à effet de serre en raison de l'utilisation de charbon, de pétrole et de gaz naturel. Ces combustibles fossiles émettent du dioxyde de carbone lorsqu'ils sont brûlés, ce qui contribue au changement climatique.\n",
      " 9 - response : Une tendance qui laisse présager une augmentation importante de la consommation d'énergie dans le secteur des transports dans les années à venir est le remplacement des carburants à faible teneur en carbone par d'autres modes de transport, tels que le transport maritime.\n",
      "10 - response : La tendance des températures à la surface du globe au cours des dernières décennies a été à la hausse. Cela est confirmé par la reconstruction de la température de la surface du globe au cours des 2000 dernières années, montrant une augmentation des températures. Les données de la NASA indiquent également que les températures à la surface des terres ont augmenté plus rapidement que celles des océans. Cette augmentation des températures a des conséquences telles que l'augmentation des maladies liées à la chaleur, la difficulté accrue du travail en plein air, l'augmentation des incendies de forêt et l'intensification des tempêtes destructrices.\n",
      "11 - response : Le réchauffement climatique influence la fréquence et l'intensité des tempêtes dans différentes régions en les rendant plus fréquentes et plus intenses.\n",
      "12 - response : Le changement climatique a un impact sur la disponibilité de l'eau dans plusieurs régions. Les conséquences associées sont notamment la diminution des ressources en eau, l'augmentation des sécheresses, la modification des régimes de précipitations et la hausse du niveau de la mer.\n",
      "13 - response : La montée des océans est liée au réchauffement de la planète car les océans absorbent une grande partie de la chaleur résultant du réchauffement climatique. Lorsque les océans se réchauffent, l'eau se dilate et leur volume augmente. Cela entraîne une élévation du niveau des mers, ce qui met en péril les communautés côtières. Les dangers potentiels pour ces communautés comprennent l'inondation des terres, l'érosion côtière, la perte d'habitats naturels, la salinisation des sols et des réserves d'eau douce, ainsi que la destruction des infrastructures côtières.\n",
      "14 - response : Le changement climatique présente des risques pour la survie des espèces terrestres et océaniques. Les espèces terrestres sont confrontées à des migrations plus lentes vers des zones plus froides, ce qui peut entraîner leur extinction. Les espèces océaniques sont également confrontées à des migrations vers les pôles plus froids, mais à un rythme plus rapide que les espèces terrestres. On estime que le changement climatique entraîne l'extinction de nombreuses espèces.\n",
      "15 - response : Les modifications climatiques peuvent aggraver la faim et la malnutrition dans le monde de plusieurs manières. Tout d'abord, les modifications du climat et l'augmentation des phénomènes météorologiques extrêmes peuvent entraîner des pénuries de denrées alimentaires. Par exemple, les ressources halieutiques, les cultures et les animaux d'élevage peuvent être détruits ou perdre en productivité en raison des changements climatiques. De plus, l'acidification des océans menace les ressources marines qui sont essentielles pour nourrir des milliards de personnes. Ainsi, les modifications climatiques peuvent compromettre la disponibilité et la qualité des ressources alimentaires, ce qui aggrave la faim et la malnutrition dans le monde.\n",
      "16 - response : Les risques sanitaires associés au changement climatique incluent l'insécurité alimentaire, la pénurie d'eau, les inondations, les maladies infectieuses, la chaleur extrême et les pertes économiques. Ces impacts affectent la santé de l'humanité en augmentant le risque de malnutrition, de maladies liées à l'eau, de maladies vectorielles, de problèmes respiratoires, de stress thermique et de troubles mentaux.\n",
      "17 - response : Le changement climatique contribue à l'accroissement de la pauvreté et aux déplacements de populations en raison des phénomènes météorologiques extrêmes tels que les inondations qui peuvent détruire les habitations et les moyens de subsistance des populations. De plus, la chaleur rend difficile le travail en plein air et le manque d'eau nuit aux cultures, ce qui entraîne une diminution des revenus et une augmentation de la pauvreté. Les populations touchées par ces conséquences du changement climatique sont souvent contraintes de se déplacer pour trouver de meilleures conditions de vie.\n",
      "18 - response : La fréquence estimée des déplacements de populations en raison de phénomènes météorologiques au cours de la dernière décennie n'est pas précisée dans le texte fourni.\n",
      "19 - response : Environ 13 millions de personnes.\n",
      "20 - response : Les principales activités humaines responsables de la pollution de la planète sont la production de CO2, les émissions de gaz à effet de serre et les activités industrielles.\n",
      "21 - response : Le changement climatique entraîne une augmentation de la température à la surface de la Terre. Il intensifie également les catastrophes naturelles et leur ampleur, telles que les inondations, les cyclones et les sécheresses.\n",
      "22 - response : Le terme \"changement climatique\" est utilisé de manière interchangeable avec \"réchauffement climatique\". Le GIEC travaille sur cette question depuis sa création en 1988.\n",
      "23 - response : Les effets multiples du changement climatique peuvent être catégorisés en effets environnementaux, sociaux et économiques. Les conséquences environnementales incluent des phénomènes tels que la fonte des glaciers, l'élévation du niveau de la mer, les tempêtes plus fréquentes et plus intenses, la diminution de la biodiversité, etc. Les effets sociaux comprennent des problèmes tels que les migrations forcées, les conflits liés aux ressources, les problèmes de santé liés à la chaleur et aux maladies vectorielles, etc. Les effets économiques incluent des pertes de récoltes, des dommages aux infrastructures, des coûts accrus pour l'adaptation et la reconstruction, etc.\n",
      "24 - response : Le terme \"catastrophe\" est défini dans le texte comme un événement brutal qui cause des destructions à grande échelle. Les différentes origines possibles d'une catastrophe sont d'origine naturelle (géophysique, météorologique) et d'origine anthropique.\n",
      "25 - response : Le climat est l'ensemble des conditions météorologiques moyennes d'une région ou de la Terre sur une période de temps prolongée. Les principaux facteurs qui influent sur le climat de la Terre sont l'énergie solaire, l'effet de serre et les circulations atmosphériques et océaniques.\n",
      "26 - response : La définition du développement durable est un ensemble d'idées, de moyens et de pratiques visant à ce que la Terre et ses habitants ne souffrent pas trop de l'activité humaine dans le présent mais également dans le futur. Son principe est de continuer à ce que le monde continue à se développer, mais sans porter atteinte à l'environnement. Les principaux objectifs du développement durable sont d'améliorer la qualité de vie, de préserver les ressources pour les générations futures, d'encourager la solidarité et le respect de l'environnement, et de transformer le monde en une société plus juste et plus équitable.\n",
      "27 - response : Le réchauffement climatique est considéré comme une menace pour la planète car il entraîne une augmentation durable de la température sur toute la surface de la planète et dans les océans. Cela a des conséquences néfastes sur les écosystèmes, les ressources naturelles et la biodiversité. Une espèce mentionnée comme étant en grand danger est la population humaine, car le réchauffement climatique peut entraîner des phénomènes météorologiques extrêmes, des pénuries alimentaires, des migrations forcées et d'autres problèmes socio-économiques.\n",
      "28 - response : Le développement durable a été défini par la Commission mondiale sur l'environnement et le développement dans le rapport Brundtland en 1987. Sa définition est la suivante : \"Le développement durable est un développement qui répond aux besoins du présent sans compromettre la capacité des générations futures à répondre aux leurs.\"\n",
      "29 - response : La différence entre le changement climatique et le dérèglement climatique réside dans leur nature. Le changement climatique fait référence aux variations à long terme des conditions climatiques, y compris les températures, les précipitations et les modèles météorologiques. Le dérèglement climatique, quant à lui, se réfère à une perturbation ou à une altération anormale des conditions climatiques normales, souvent causée par des activités humaines telles que les émissions de gaz à effet de serre.\n",
      "30 - response : Le développement durable est un ensemble d'idées, de moyens et de pratiques pour que la Terre et ses habitants ne souffrent pas trop de l'activité humaine dans le présent mais également dans le futur. Il vise à améliorer la qualité de vie. Son principe est de continuer à ce que le monde continue à se développer, mais sans porter atteinte à l'environnement.\n",
      "31 - response : Le développement n'est pas durable si toutes les ressources sont utilisées aujourd'hui sans en laisser pour les générations futures car le développement durable vise à améliorer les conditions de vie du présent tout en préservant les ressources pour les générations futures. Si toutes les ressources sont épuisées aujourd'hui, il n'y aura rien de disponible pour répondre aux besoins des générations futures, compromettant ainsi leur qualité de vie et leur développement.\n",
      "32 - response : Le réchauffement climatique impacte tous les secteurs d'intervention de l'UNICEF, tels que la santé, l'eau, l'hygiène et l'assainissement, ainsi que l'éducation.\n",
      "33 - response : Les principales recommandations de l'UNICEF pour lutter contre le changement climatique sont les suivantes :\n",
      "1. La communauté internationale doit rapidement réduire ses émissions de gaz à effet de serre et préparer les générations futures à une faible consommation de carbone.\n",
      "2. Les enfants doivent bénéficier des investissements en matière de changement climatique et d'énergie durable.\n",
      "3. Il est nécessaire d'investir dès maintenant dans la lutte contre le changement climatique.\n",
      "34 - response : L'UNICEF plaide pour une évolution des politiques nationales sur le climat.\n",
      "35 - response : La communauté internationale doit réduire rapidement ses émissions de gaz à effet de serre selon l'UNICEF afin de stabiliser les concentrations de ces gaz dans l'atmosphère. Cela permettrait aux écosystèmes de s'adapter naturellement aux changements climatiques, de préserver la production alimentaire et de soutenir le développement économique.\n",
      "36 - response : L'UNICEF propose d'investir dans la lutte contre le changement climatique pour le bénéfice des enfants en garantissant que les enfants, dont le futur est le plus à risque, bénéficient des investissements en matière de changement climatique et d'énergie durable.\n",
      "37 - response : Le seuil de réchauffement climatique considéré comme critique, au-delà duquel des répercussions graves sont à craindre, est de 2 degrés Celsius.\n",
      "38 - response : L'abattage des forêts (déforestation) a plusieurs effets sur le climat. Tout d'abord, la déforestation contribue à l'augmentation des émissions de gaz à effet de serre, car les arbres absorbent le dioxyde de carbone (CO2) lors de la photosynthèse. Lorsqu'ils sont abattus, le CO2 est libéré dans l'atmosphère, contribuant ainsi au réchauffement climatique. De plus, les forêts jouent un rôle important dans la régulation du climat en absorbant une partie de l'excès de chaleur et en fournissant de l'ombre et de l'humidité. Lorsqu'elles sont détruites, ces fonctions de régulation sont compromises, ce qui peut entraîner des changements climatiques locaux et régionaux. Enfin, la déforestation réduit également la capacité de la nature à absorber le CO2, ce qui aggrave encore le problème du réchauffement climatique.\n",
      "39 - response : L'élevage, en particulier les bovins et les ovins, contribue au changement climatique principalement par les émissions de gaz à effet de serre qu'il génère. En effet, les bovins et les ovins produisent du méthane, un puissant gaz à effet de serre, lors de leur digestion. De plus, la déforestation pour créer des pâturages et cultiver des aliments pour le bétail contribue également aux émissions de dioxyde de carbone.\n"
     ]
    }
   ],
   "source": [
    "from trulens_eval import TruCustomApp\n",
    "\n",
    "format_set = []\n",
    "with open(\"../GAIA_questions.csv\", 'r', newline='', encoding='utf-8') as file :\n",
    "    csv_lector = csv.DictReader(file, delimiter=';')\n",
    "    for line in csv_lector : \n",
    "        format_set.append(line[\"Format\"])\n",
    "\n",
    "\n",
    "\n",
    "\n",
    "tru_app = TruCustomApp(rag_app, app_id = \"Basic RAG\", feedbacks = [f_groundtruth])\n",
    "with tru_app as recording :\n",
    "    i = 0\n",
    "    for question in questions_set :\n",
    "        if question[\"GroundTruth\"] == 'T' :\n",
    "            rep = rag_app.query(question[\"query\"])\n",
    "            print(f\"{i:>2} - {question['response']:<30} | {rep}\")\n",
    "            i += 1\n",
    "\n",
    "tru_app = TruCustomApp(rag_app, app_id = \"Basic RAG\", feedbacks = [f_qa_relevance, f_context_relevance, f_groundedness])\n",
    "with tru_app as recording :\n",
    "    i = 0\n",
    "    for question in questions_set :\n",
    "        if question[\"GroundTruth\"] == 'F' :\n",
    "            rep = rag_app.query(question[\"query\"])\n",
    "            print(f\"{i:>2} - {rep}\")\n",
    "            i += 1"
   ]
  },
  {
   "cell_type": "code",
   "execution_count": 48,
   "metadata": {},
   "outputs": [
    {
     "data": {
      "text/html": [
       "<div>\n",
       "<style scoped>\n",
       "    .dataframe tbody tr th:only-of-type {\n",
       "        vertical-align: middle;\n",
       "    }\n",
       "\n",
       "    .dataframe tbody tr th {\n",
       "        vertical-align: top;\n",
       "    }\n",
       "\n",
       "    .dataframe thead th {\n",
       "        text-align: right;\n",
       "    }\n",
       "</style>\n",
       "<table border=\"1\" class=\"dataframe\">\n",
       "  <thead>\n",
       "    <tr style=\"text-align: right;\">\n",
       "      <th></th>\n",
       "      <th>Ground Truth</th>\n",
       "      <th>Groundedness</th>\n",
       "      <th>Context Relevance</th>\n",
       "      <th>Answer Relevance</th>\n",
       "      <th>latency</th>\n",
       "      <th>total_cost</th>\n",
       "    </tr>\n",
       "    <tr>\n",
       "      <th>app_id</th>\n",
       "      <th></th>\n",
       "      <th></th>\n",
       "      <th></th>\n",
       "      <th></th>\n",
       "      <th></th>\n",
       "      <th></th>\n",
       "    </tr>\n",
       "  </thead>\n",
       "  <tbody>\n",
       "    <tr>\n",
       "      <th>Basic RAG</th>\n",
       "      <td>0.682979</td>\n",
       "      <td>0.698413</td>\n",
       "      <td>0.811905</td>\n",
       "      <td>0.988095</td>\n",
       "      <td>3.067416</td>\n",
       "      <td>0.000841</td>\n",
       "    </tr>\n",
       "  </tbody>\n",
       "</table>\n",
       "</div>"
      ],
      "text/plain": [
       "           Ground Truth  Groundedness  Context Relevance  Answer Relevance  \\\n",
       "app_id                                                                       \n",
       "Basic RAG      0.682979      0.698413           0.811905          0.988095   \n",
       "\n",
       "            latency  total_cost  \n",
       "app_id                           \n",
       "Basic RAG  3.067416    0.000841  "
      ]
     },
     "execution_count": 48,
     "metadata": {},
     "output_type": "execute_result"
    }
   ],
   "source": [
    "tru.get_leaderboard(app_ids=[tru_app.app_id])"
   ]
  },
  {
   "cell_type": "code",
   "execution_count": 1,
   "metadata": {},
   "outputs": [
    {
     "ename": "NameError",
     "evalue": "name 'tru' is not defined",
     "output_type": "error",
     "traceback": [
      "\u001b[1;31m---------------------------------------------------------------------------\u001b[0m",
      "\u001b[1;31mNameError\u001b[0m                                 Traceback (most recent call last)",
      "Cell \u001b[1;32mIn[1], line 1\u001b[0m\n\u001b[1;32m----> 1\u001b[0m \u001b[43mtru\u001b[49m\u001b[38;5;241m.\u001b[39mrun_dashboard() \n",
      "\u001b[1;31mNameError\u001b[0m: name 'tru' is not defined"
     ]
    }
   ],
   "source": [
    "tru.run_dashboard() "
   ]
  },
  {
   "cell_type": "code",
   "execution_count": null,
   "metadata": {},
   "outputs": [],
   "source": []
  }
 ],
 "metadata": {
  "kernelspec": {
   "display_name": "rag",
   "language": "python",
   "name": "python3"
  },
  "language_info": {
   "codemirror_mode": {
    "name": "ipython",
    "version": 3
   },
   "file_extension": ".py",
   "mimetype": "text/x-python",
   "name": "python",
   "nbconvert_exporter": "python",
   "pygments_lexer": "ipython3",
   "version": "3.9.0"
  }
 },
 "nbformat": 4,
 "nbformat_minor": 2
}
