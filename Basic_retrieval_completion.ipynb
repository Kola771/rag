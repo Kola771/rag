{
 "cells": [
  {
   "cell_type": "markdown",
   "metadata": {},
   "source": [
    "# BASIC RAG - Completion"
   ]
  },
  {
   "cell_type": "markdown",
   "metadata": {},
   "source": [
    "# Load chroma database\n",
    "\n",
    "Il y a besoin aussi de connaitre le modèle de l'embedding"
   ]
  },
  {
   "cell_type": "code",
   "execution_count": 2,
   "metadata": {},
   "outputs": [],
   "source": [
    "import chromadb\n",
    "from chromadb.utils import embedding_functions\n",
    "\n",
    "with open(\"log/embedding_function.txt\", 'r') as file : \n",
    "    embedding_function = eval(file.read())\n",
    "\n",
    "chroma_client = chromadb.PersistentClient(\"./dbs/documentation/chroma_index\")\n",
    "chroma_collection = chroma_client.get_collection(\"Basic_rag\", embedding_function=embedding_function)"
   ]
  },
  {
   "cell_type": "markdown",
   "metadata": {},
   "source": [
    "On crée l'application de RAG"
   ]
  },
  {
   "cell_type": "code",
   "execution_count": 3,
   "metadata": {},
   "outputs": [],
   "source": [
    "from openai import OpenAI\n",
    "\n",
    "oai_client = OpenAI()\n",
    "\n",
    "def my_retrieve(query):\n",
    "    results = chroma_collection.query(\n",
    "            query_texts=query,\n",
    "            n_results=2\n",
    "        )\n",
    "    return results['documents']\n",
    "\n",
    "def my_completion(docs, query):\n",
    "    context = \"\"\n",
    "    for ref in docs[0] :\n",
    "        ref = ref.replace('\\n', ' ') \n",
    "        context += f\"{ref}\\n------------------------\\n\"\n",
    "    completion = oai_client.chat.completions.create(\n",
    "        model = \"gpt-3.5-turbo\",\n",
    "        temperature= 0,\n",
    "        messages=[\n",
    "            {\"role\" : \"system\", \"content\" : f\"Tu es un assistant IA.\"},\n",
    "            {\"role\": \"user\", \"content\": f\"Nous avons le ou les contenus fournis ci dessous. \\n------------------------\\n{context}\\nEn te basant sur le contexte donné, réponds à cette question, et respecte le format indiqué : {query}\\nRéponse : \"}\n",
    "        ]\n",
    "    ).choices[0].message.content \n",
    "    print(f\"Question RAG : \\nNous avons le ou les contenus fournis ci dessous. \\n------------------------\\n{context}\\nEn te basant sur le contexte donné, réponds à cette question, et respecte le format indiqué : {query}\\n\")\n",
    "    return completion\n",
    "\n",
    "    \n",
    "\n",
    "\n",
    "class RAG_APP:\n",
    "    def retrieve(self, query):\n",
    "        return my_retrieve(query)\n",
    "\n",
    "    def completion(self, docs, query):\n",
    "        return my_completion(docs, query)\n",
    "\n",
    "    def query(self, query):\n",
    "        context = self.retrieve(query)\n",
    "        completion = self.completion(context, query)\n",
    "        return completion\n",
    "\n",
    "rag_app = RAG_APP()"
   ]
  },
  {
   "cell_type": "code",
   "execution_count": 5,
   "metadata": {},
   "outputs": [
    {
     "name": "stdout",
     "output_type": "stream",
     "text": [
      "Question RAG : \n",
      "Nous avons le ou les contenus fournis ci dessous. \n",
      "------------------------\n",
      "Les effets du changement climatique nuisent déjà à la santé : pollution atmosphérique, maladies, phénomènes météorologiques extrêmes, déplacements forcés, pressions sur la santé mentale, aggravation de la faim et de la malnutrition dans des endroits où les populations ne parviennent pas à produire ou à trouver de la nourriture en suffisance. Chaque année, les facteurs environnementaux coûtent la vie à environ 13 millions de personnes.\n",
      "------------------------\n",
      "Mais  on estime que sur les dix prochaines années environ 175 millions d’enfants seront touchés chaque  année par des catastrophes dues au climat.LE CHANGEMENT CLIMATIQUE DANS LE MONDE 3 En septembre 2000, les 189 États-membres de l’ONU ont adopté les Objectifs du Millénaire pour le développement (OMD). L’objectif principal était que chaque humain atteigne un  niveau de développement décent d’ici à 2015.  Même si des progrès ont pu être constatés, plus d’un milliard de personnes vit encore sous le  seuil d’extrême pauvreté (moins d’un 1,25 dollar par jour et par personne).\n",
      "------------------------\n",
      "\n",
      "En te basant sur le contexte donné, réponds à cette question, et respecte le format indiqué : Combien de millions de personnes meurent chaque année à cause de facters environnementaux?\n",
      "\n"
     ]
    },
    {
     "data": {
      "text/plain": [
       "'Chaque année, environ 13 millions de personnes meurent à cause de facteurs environnementaux.'"
      ]
     },
     "execution_count": 5,
     "metadata": {},
     "output_type": "execute_result"
    }
   ],
   "source": [
    "rag_app.query(\"Combien de millions de personnes meurent chaque année à cause de facters environnementaux?\") # rep : 13"
   ]
  },
  {
   "cell_type": "code",
   "execution_count": null,
   "metadata": {},
   "outputs": [],
   "source": []
  }
 ],
 "metadata": {
  "kernelspec": {
   "display_name": "rag",
   "language": "python",
   "name": "python3"
  },
  "language_info": {
   "codemirror_mode": {
    "name": "ipython",
    "version": 3
   },
   "file_extension": ".py",
   "mimetype": "text/x-python",
   "name": "python",
   "nbconvert_exporter": "python",
   "pygments_lexer": "ipython3",
   "version": "3.9.0"
  }
 },
 "nbformat": 4,
 "nbformat_minor": 2
}
